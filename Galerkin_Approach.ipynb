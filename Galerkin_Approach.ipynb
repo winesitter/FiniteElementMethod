{
 "cells": [
  {
   "cell_type": "markdown",
   "metadata": {},
   "source": [
    "# Galerkin Approach\n",
    "\n",
    "Before moving to more difficult differential equations, consider just the following trivial equation\n",
    "\n",
    "$$\n",
    "f(x) \\approx u(x)\n",
    "$$\n",
    "\n",
    "Through the finite element method, we try to approximate $f$ through the approximation $u$, which is a sum of $N$ different prescribed functions $\\psi_i(x)$ and unknown coefficients $c_i$:\n",
    "\n",
    "$$\n",
    "u(x) = \\sum_{i=0}^N c_i \\psi_i(x)\n",
    "$$\n",
    "\n",
    "## Approximation of Vectors\n",
    "Consider that $\\mathbf{f} = (f_1, f_2)$ is a vector. Let's try to approximate it through  another vector $\\mathbf{u}$, which is aligned in the direction of an arbitrary basis $\\mathbf{\\psi}_0 = (e_1, e_2)$ the vector space $V$.\n",
    "\n",
    "### Aim\n",
    "Find the vector $\\mathbf{u} = c_0 \\mathbf{\\psi}_0 \\in V$ that is the best approximation to the vector $\\mathbf{f}$.\n",
    "\n",
    "### Criterion\n",
    "Minimize the length of the difference between approximation $\\mathbf{u}$ and solution $\\mathbf{f}$.\n",
    "Herefore, the error $\\mathbf{e} = \\mathbf{f} - \\mathbf{u}$ is introduced, whose length is defined through\n",
    "$$\n",
    "||\\mathbf{e}|| = (\\mathbf{e} \\cdot \\mathbf{e})^{1/2}\n",
    "$$\n",
    "\n",
    "with the inner product \n",
    "$$(\\mathbf{x} \\cdot \\mathbf{y}) = \\sum_{i=0}^{N} x_i y_i$$\n",
    "\n",
    "#### The least squares method\n",
    "In order to minimize $||\\mathbf{e}||$ and thereby find $c_0$, which gives the best approximation of $\\mathbf{u}$ to $\\mathbf{f}$, we introduce the function\n",
    "$$\n",
    "E(c_0) = (\\mathbf{e} \\cdot \\mathbf{e}) \n",
    "= \\left((\\mathbf{f} - c_0 \\mathbf{\\psi}_0) \\cdot (\\mathbf{f} - c_0 \\mathbf{\\psi}_0) \\right)\n",
    "= (\\mathbf{f} \\cdot \\mathbf{f}) - 2 c_0 (\\mathbf{f} \\cdot \\mathbf{\\psi}_0) \n",
    "+ c_0^2 (\\mathbf{\\psi}_0 \\cdot \\mathbf{\\psi}_0).\n",
    "$$\n",
    "\n",
    "To find the optimum value of $c_0$, we have to set the derivative of $E(c_0)$ for $c_0$ to zero:\n",
    "$$\n",
    "\\frac{\\partial E(c_0)}{\\partial c_0} = 0 \n",
    "$$\n",
    "\n",
    "In this case, this reduces to the following equation:\n",
    "\n",
    "$$\n",
    "\\frac{\\partial E(c_0)}{\\partial c_0} = \n",
    "- 2 (\\mathbf{f} \\cdot \\mathbf{\\psi}_0) \n",
    "+ 2 c_0 (\\mathbf{\\psi}_0 \\cdot \\mathbf{\\psi}_0)\n",
    "= 0\n",
    "$$\n",
    "which can also be written as\n",
    "$$\n",
    "\\left( (\\mathbf{f}- c_0 \\mathbf{\\psi}_0) \\cdot \\mathbf{\\psi}_0\\right) = 0\n",
    "$$\n",
    "or \n",
    "$$\n",
    "(\\mathbf{e} \\cdot \\mathbf{\\psi}_0 ) = 0\n",
    "$$\n",
    "\n",
    "This can be solved for $c_0$:\n",
    "$$c_0 = \\frac{(\\mathbf{f} \\cdot \\mathbf{\\psi}_0) }{(\\mathbf{\\psi}_0 \\cdot \\mathbf{\\psi}_0)}\n",
    "$$"
   ]
  },
  {
   "cell_type": "code",
   "execution_count": null,
   "metadata": {},
   "outputs": [],
   "source": [
    "from matplotlib import pyplot as plt\n",
    "\n",
    "(f_1, f_2) = (3, 4)\n",
    "\n"
   ]
  },
  {
   "cell_type": "code",
   "execution_count": 91,
   "metadata": {},
   "outputs": [
    {
     "name": "stdout",
     "output_type": "stream",
     "text": [
      "[-1.0706817  -0.23112637 -0.22962645 -0.15494506 -0.12769095 -0.10558575\n",
      " -0.09066567 -0.07929121 -0.07048563 -0.06343343 -0.05766571]\n"
     ]
    },
    {
     "data": {
      "image/png": "[encoded data removed]",
      "text/plain": [
       "<matplotlib.figure.Figure at 0x7fcf8cd9e9e8>"
      ]
     },
     "metadata": {},
     "output_type": "display_data"
    }
   ],
   "source": [
    "import numpy as np\n",
    "\n",
    "\n",
    "def least_squares_numerical(f, psi, N, x, \n",
    "                            integration_method='scipy',\n",
    "                            orthogonal_basis=False):\n",
    "    import scipy.integrate\n",
    "    A = np.zeros((N+1, N+1))\n",
    "    b = np.zeros(N+1)\n",
    "    # Integration range\n",
    "    Omega = [x[0], x[-1]]\n",
    "    dx = x[1] - x[0]\n",
    "    \n",
    "    for i in range(0, N+1):\n",
    "        \n",
    "        # Compute entries of matrix A\n",
    "        j_limit = i+1 if orthogonal_basis else N+1\n",
    "        for j in range(i, j_limit):\n",
    "            if (integration_method == 'scipy'):\n",
    "                A_ij = scipy.integrate.quad(\n",
    "                        lambda x: psi(x,i) * psi(x,j),\n",
    "                        Omega[0], Omega[1], epsabs=1e-9, epsrel=1e-9)[0]\n",
    "            else:\n",
    "                values = psi(x,i) * psi(x,j)\n",
    "                A_ij = trapezoidal(values, dx)\n",
    "                \n",
    "            A[i][j] = A[j][i] = A_ij\n",
    "            \n",
    "        # compute entries of rhs b\n",
    "        if (integration_method == 'scipy'):\n",
    "            b_i = scipy.integrate.quad(\n",
    "                    lambda x: f(x)*psi(x,i),\n",
    "                    Omega[0], Omega[1], epsabs=1e-9, epsrel=1e-9)[0]\n",
    "        else:\n",
    "            values = psi(x,i) * f(x)\n",
    "            b_i = trapezoidal(values, dx)\n",
    "        b[i] = b_i\n",
    "        \n",
    "    c = b / np.diag(A) if orthogonal_basis else np.linalg.solve(A, b)\n",
    "    u  = sum(c[i]*psi(x, i) for i in range(0, N+1))\n",
    "    return u, c\n",
    "\n",
    "def trapezoidal(values, dx):\n",
    "    \"\"\"Integrate values by trapezoidal rule\"\"\"\n",
    "    return dx*(np.sum(values) - 0.5*values[0] - 0.5*values[-1])\n",
    "\n",
    "\n",
    "\n",
    "\n",
    "\n",
    "from numpy import linspace, tanh, pi, sin\n",
    "\n",
    "def psi(x, i):\n",
    "    return sin((i+1)*x)\n",
    "    #return x**i\n",
    "    \n",
    "x = linspace(0, 2*pi, 501)\n",
    "N = 10\n",
    "f = lambda x: tanh(x-pi)\n",
    "#f = lambda x: 10. * (x-1.)**2 - 1\n",
    "\n",
    "\n",
    "u, c = least_squares_numerical(f, psi, N, x, \n",
    "                               integration_method='scipy',\n",
    "                               orthogonal_basis=True)\n",
    "\n",
    "print(c)\n",
    "\n",
    "\n",
    "from matplotlib import pyplot as plt\n",
    "\n",
    "fig = plt.figure()\n",
    "fig.set_size_inches(10,5)\n",
    "ax = fig.add_subplot(111)\n",
    "\n",
    "f_plt = ax.plot(x, f(x), c='r', lw=1.5, ls='-', label=r'$f(x)$')\n",
    "u_plt = ax.plot(x, u, c='b', lw=1.0, ls='--', label=r'$u(x)$')\n",
    "\n",
    "legend = plt.legend()\n",
    "\n",
    "ax.grid(True)\n",
    "\n",
    "plt.show()"
   ]
  },
  {
   "cell_type": "markdown",
   "metadata": {},
   "source": [
    "# Using Lagrange Polynomials"
   ]
  },
  {
   "cell_type": "code",
   "execution_count": 104,
   "metadata": {},
   "outputs": [
    {
     "name": "stdout",
     "output_type": "stream",
     "text": [
      "[0.9619397662556434, 0.6913417161825449, 0.30865828381745514, 0.03806023374435663]\n"
     ]
    }
   ],
   "source": [
    "''' Compute lagrangian interpolation polynomial over domain x at specific points '''\n",
    "def Lagrange_polynomial(x, i, points):\n",
    "    p = 1\n",
    "    for k in range(len(points)):\n",
    "        if k != i:\n",
    "            p *= (x - points[k]) / (points[i] - points[k])\n",
    "    return p\n",
    "\n",
    "def Chebyshev_nodes(a, b, N):\n",
    "    from math import cos, pi\n",
    "    return [0.5*(a+b) + 0.5*(b-a)*cos((2.*i+1.)/(2.*(N+1.))*pi) for i in range(N+1)]\n",
    "\n",
    "\n",
    "''' Compute complete basis of lagrange polynomials at specified points '''\n",
    "def Lagrange_polynomials_01(x, N, Omega, point_distribution='uniform'):\n",
    "    if point_distribution == 'uniform':\n",
    "        h = 1.0 / (N-1)\n",
    "        points = [i*h for i in range(N+1)]\n",
    "\n",
    "    elif point_distribution == 'Chebyshev':\n",
    "        points = Chebyshev_nodes(Omega[0], Omega[1], N)\n",
    "        \n",
    "    psi = [Lagrange_polynomial(x, i, points) for i in range(N)]\n",
    "    return psi, points\n",
    "\n",
    "\n",
    "x = np.linspace(0,1,10)\n",
    "psi, points = Lagrange_polynomials_01(x, \n",
    "                                      Omega=(0,1), \n",
    "                                      N=3, \n",
    "                                      point_distribution='Chebyshev')\n",
    "\n",
    "print(points)"
   ]
  },
  {
   "cell_type": "markdown",
   "metadata": {},
   "source": [
    "# Finite Element Introduction"
   ]
  },
  {
   "cell_type": "code",
   "execution_count": 106,
   "metadata": {},
   "outputs": [],
   "source": [
    "# Defining the mesh\n",
    "nodes = [0, 0.2, 0.4, 0.7, 1.0]\n",
    "elements = [[0,1,2],[2,3,4]]\n",
    "\n"
   ]
  },
  {
   "cell_type": "code",
   "execution_count": null,
   "metadata": {},
   "outputs": [],
   "source": []
  }
 ],
 "metadata": {
  "kernelspec": {
   "display_name": "Python 3",
   "language": "python",
   "name": "python3"
  },
  "language_info": {
   "codemirror_mode": {
    "name": "ipython",
    "version": 3
   },
   "file_extension": ".py",
   "mimetype": "text/x-python",
   "name": "python",
   "nbconvert_exporter": "python",
   "pygments_lexer": "ipython3",
   "version": "3.6.4"
  }
 },
 "nbformat": 4,
 "nbformat_minor": 2
}
