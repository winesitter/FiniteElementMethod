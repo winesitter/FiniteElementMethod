{
 "cells": [
  {
   "cell_type": "markdown",
   "metadata": {},
   "source": [
    "# Numerical Integration\n",
    "Numerical integration rules can be expressid a common form:\n",
    "$$\n",
    "\\int_{-1}^{1} g(X) \\text{d}X \\approx \\sum_{j=0}^{M} w_j g(\\overline{X}_j).\n",
    "$$\n",
    "Hereby $\\overline{X}_j$ denote special integration points and $w_j$ are integration weights.\n",
    "\n",
    "The simplest method for numerical integration is the midpoint rule:\n",
    "$$\n",
    "\\int_{-1}^{1} g(X) \\text{d}X \\approx 2 g(0), \\qquad \\overline{X}_0 = 0, w_0 = 2\n",
    "$$\n",
    "This rule gives an exact result for linear functions.\n",
    "\n",
    "## Newton-Cotes rules\n",
    "These integration rules are based on a fixed uniform distribution of the integration points. \n",
    "\n",
    "### Trapezoidal Rule\n",
    "$$\n",
    "\\int_{-1}^{1} g(X) \\text{d}X \\approx g(-1) + g(1), \\qquad \\overline{X}_0 = -1, \\overline{X}_1 = 1, w_0 = w_1 = 1\n",
    "$$\n",
    "\n",
    "### Simpson's Rule\n",
    "$$\n",
    "\\int_{-1}^{1} g(X) \\text{d}X \\approx \\frac{1}{3} \\left( g(-1) + 4 g(0) + g(1) \\right)\n",
    "$$\n",
    "with \n",
    "$$\n",
    "\\overline{X}_0 = -1, \\overline{X}_1 = 0, \\overline{X}_2 = 1, w_0 = w_2 = \\frac{1}{3}, w_1 = \\frac{4}{3}\n",
    "$$\n",
    "\n",
    "## Gauss-Legendre Rules\n",
    "These rules give more accurate results. Herefore the location of the interpolation points is optimized for polynomial integrands.\n",
    "Following rules integrate 3rd and 5th degree polynomials exactly:\n",
    "$$\n",
    "M=1: \\quad \\overline{X}_0 = -\\frac{1}{\\sqrt{3}}, \\overline{X}_1=\\frac{1}{\\sqrt{3}}, \\quad w_0=w_1=1\n",
    "$$\n",
    "$$\n",
    "M=2: \\quad \\overline{X}_0 = -\\sqrt{\\frac{3}{5}}, \\overline{X}_1 = 0, \\overline{X}_2 = \\sqrt{\\frac{3}{5}}, \\quad w_0 = w_2 = \\frac{5}{9}, w_1 = \\frac{8}{9}\n",
    "$$\n",
    "\n",
    "An $M$-point Gauss-Legendre rule integrates a polynomial of degree $2M +1$ exactly.\n",
    "\n",
    "For further calculations, we will use the numint.py file from H.P. Langtangen's introduction to finite element methods\n",
    "(see https://hplgit.github.io/INF5620/doc/notes/fem-sphinx/main_fem.html).\n"
   ]
  },
  {
   "cell_type": "code",
   "execution_count": null,
   "metadata": {},
   "outputs": [],
   "source": []
  }
 ],
 "metadata": {
  "kernelspec": {
   "display_name": "Python 3",
   "language": "python",
   "name": "python3"
  },
  "language_info": {
   "codemirror_mode": {
    "name": "ipython",
    "version": 3
   },
   "file_extension": ".py",
   "mimetype": "text/x-python",
   "name": "python",
   "nbconvert_exporter": "python",
   "pygments_lexer": "ipython3",
   "version": "3.6.4"
  }
 },
 "nbformat": 4,
 "nbformat_minor": 2
}
